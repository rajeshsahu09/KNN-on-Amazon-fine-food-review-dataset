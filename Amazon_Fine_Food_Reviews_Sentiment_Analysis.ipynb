{
 "cells": [
  {
   "cell_type": "markdown",
   "metadata": {},
   "source": [
    "# Dataset Description\n",
    "### Columns : \n",
    "1. Id\n",
    "2. ProductId\n",
    "3. UserId\n",
    "4. ProfineName\n",
    "5. HelpfulnessNumerator\n",
    "6. HelpfulnessDenominator\n",
    "7. Score\n",
    "8. Time\n",
    "9. Summary\n",
    "10. Text"
   ]
  },
  {
   "cell_type": "code",
   "execution_count": 1,
   "metadata": {},
   "outputs": [],
   "source": [
    "%matplotlib inline\n",
    "import matplotlib.pyplot as plt\n",
    "import pandas as pd\n",
    "import numpy as np"
   ]
  },
  {
   "cell_type": "code",
   "execution_count": 2,
   "metadata": {},
   "outputs": [],
   "source": [
    "df = pd.read_csv('Reviews.csv')"
   ]
  },
  {
   "cell_type": "code",
   "execution_count": 3,
   "metadata": {},
   "outputs": [
    {
     "data": {
      "text/plain": [
       "(568454, 10)"
      ]
     },
     "execution_count": 3,
     "metadata": {},
     "output_type": "execute_result"
    }
   ],
   "source": [
    "original_row = df.shape\n",
    "original_row"
   ]
  },
  {
   "cell_type": "code",
   "execution_count": 4,
   "metadata": {},
   "outputs": [
    {
     "name": "stdout",
     "output_type": "stream",
     "text": [
      "<class 'pandas.core.frame.DataFrame'>\n",
      "RangeIndex: 568454 entries, 0 to 568453\n",
      "Data columns (total 10 columns):\n",
      "Id                        568454 non-null int64\n",
      "ProductId                 568454 non-null object\n",
      "UserId                    568454 non-null object\n",
      "ProfileName               568438 non-null object\n",
      "HelpfulnessNumerator      568454 non-null int64\n",
      "HelpfulnessDenominator    568454 non-null int64\n",
      "Score                     568454 non-null int64\n",
      "Time                      568454 non-null int64\n",
      "Summary                   568427 non-null object\n",
      "Text                      568454 non-null object\n",
      "dtypes: int64(5), object(5)\n",
      "memory usage: 43.4+ MB\n"
     ]
    }
   ],
   "source": [
    "df.info()"
   ]
  },
  {
   "cell_type": "code",
   "execution_count": 5,
   "metadata": {},
   "outputs": [
    {
     "data": {
      "text/plain": [
       "(256059, 74258)"
      ]
     },
     "execution_count": 5,
     "metadata": {},
     "output_type": "execute_result"
    }
   ],
   "source": [
    "# unique users and products\n",
    "df.UserId.unique().shape[0], df.ProductId.unique().shape[0]"
   ]
  },
  {
   "cell_type": "code",
   "execution_count": 6,
   "metadata": {},
   "outputs": [
    {
     "data": {
      "text/plain": [
       "5    363122\n",
       "4     80655\n",
       "1     52268\n",
       "3     42640\n",
       "2     29769\n",
       "Name: Score, dtype: int64"
      ]
     },
     "execution_count": 6,
     "metadata": {},
     "output_type": "execute_result"
    }
   ],
   "source": [
    "df['Score'].value_counts()"
   ]
  },
  {
   "cell_type": "code",
   "execution_count": 7,
   "metadata": {
    "scrolled": true
   },
   "outputs": [
    {
     "name": "stdout",
     "output_type": "stream",
     "text": [
      "No null entry for col Id is True\n",
      "No null entry for col ProductId is True\n",
      "No null entry for col UserId is True\n",
      "No null entry for col ProfileName is False\n",
      "No null entry for col HelpfulnessNumerator is True\n",
      "No null entry for col HelpfulnessDenominator is True\n",
      "No null entry for col Score is True\n",
      "No null entry for col Time is True\n",
      "No null entry for col Summary is False\n",
      "No null entry for col Text is True\n"
     ]
    }
   ],
   "source": [
    "# checking for any null entry\n",
    "for col in df.columns:\n",
    "    print(\"No null entry for col {} is {}\".format(col, df[df[col].isnull() == True].shape[0] == 0))"
   ]
  },
  {
   "cell_type": "markdown",
   "metadata": {},
   "source": [
    "**ProfileName and Summary column has null entry**\n",
    "1. ProfileName is not required for sentiment classification\n",
    "2. We will remove the null entries row for Summary"
   ]
  },
  {
   "cell_type": "code",
   "execution_count": 8,
   "metadata": {},
   "outputs": [
    {
     "data": {
      "text/plain": [
       "27"
      ]
     },
     "execution_count": 8,
     "metadata": {},
     "output_type": "execute_result"
    }
   ],
   "source": [
    "'''27 null summary entries'''\n",
    "df[df['Summary'].isnull()].shape[0]"
   ]
  },
  {
   "cell_type": "code",
   "execution_count": 9,
   "metadata": {},
   "outputs": [
    {
     "data": {
      "text/html": [
       "<div>\n",
       "<style scoped>\n",
       "    .dataframe tbody tr th:only-of-type {\n",
       "        vertical-align: middle;\n",
       "    }\n",
       "\n",
       "    .dataframe tbody tr th {\n",
       "        vertical-align: top;\n",
       "    }\n",
       "\n",
       "    .dataframe thead th {\n",
       "        text-align: right;\n",
       "    }\n",
       "</style>\n",
       "<table border=\"1\" class=\"dataframe\">\n",
       "  <thead>\n",
       "    <tr style=\"text-align: right;\">\n",
       "      <th></th>\n",
       "      <th>Id</th>\n",
       "      <th>ProductId</th>\n",
       "      <th>UserId</th>\n",
       "      <th>ProfileName</th>\n",
       "      <th>HelpfulnessNumerator</th>\n",
       "      <th>HelpfulnessDenominator</th>\n",
       "      <th>Score</th>\n",
       "      <th>Time</th>\n",
       "      <th>Summary</th>\n",
       "      <th>Text</th>\n",
       "    </tr>\n",
       "  </thead>\n",
       "  <tbody>\n",
       "    <tr>\n",
       "      <th>0</th>\n",
       "      <td>1</td>\n",
       "      <td>B001E4KFG0</td>\n",
       "      <td>A3SGXH7AUHU8GW</td>\n",
       "      <td>delmartian</td>\n",
       "      <td>1</td>\n",
       "      <td>1</td>\n",
       "      <td>5</td>\n",
       "      <td>1303862400</td>\n",
       "      <td>Good Quality Dog Food</td>\n",
       "      <td>I have bought several of the Vitality canned d...</td>\n",
       "    </tr>\n",
       "    <tr>\n",
       "      <th>1</th>\n",
       "      <td>2</td>\n",
       "      <td>B00813GRG4</td>\n",
       "      <td>A1D87F6ZCVE5NK</td>\n",
       "      <td>dll pa</td>\n",
       "      <td>0</td>\n",
       "      <td>0</td>\n",
       "      <td>1</td>\n",
       "      <td>1346976000</td>\n",
       "      <td>Not as Advertised</td>\n",
       "      <td>Product arrived labeled as Jumbo Salted Peanut...</td>\n",
       "    </tr>\n",
       "    <tr>\n",
       "      <th>2</th>\n",
       "      <td>3</td>\n",
       "      <td>B000LQOCH0</td>\n",
       "      <td>ABXLMWJIXXAIN</td>\n",
       "      <td>Natalia Corres \"Natalia Corres\"</td>\n",
       "      <td>1</td>\n",
       "      <td>1</td>\n",
       "      <td>4</td>\n",
       "      <td>1219017600</td>\n",
       "      <td>\"Delight\" says it all</td>\n",
       "      <td>This is a confection that has been around a fe...</td>\n",
       "    </tr>\n",
       "    <tr>\n",
       "      <th>3</th>\n",
       "      <td>4</td>\n",
       "      <td>B000UA0QIQ</td>\n",
       "      <td>A395BORC6FGVXV</td>\n",
       "      <td>Karl</td>\n",
       "      <td>3</td>\n",
       "      <td>3</td>\n",
       "      <td>2</td>\n",
       "      <td>1307923200</td>\n",
       "      <td>Cough Medicine</td>\n",
       "      <td>If you are looking for the secret ingredient i...</td>\n",
       "    </tr>\n",
       "    <tr>\n",
       "      <th>4</th>\n",
       "      <td>5</td>\n",
       "      <td>B006K2ZZ7K</td>\n",
       "      <td>A1UQRSCLF8GW1T</td>\n",
       "      <td>Michael D. Bigham \"M. Wassir\"</td>\n",
       "      <td>0</td>\n",
       "      <td>0</td>\n",
       "      <td>5</td>\n",
       "      <td>1350777600</td>\n",
       "      <td>Great taffy</td>\n",
       "      <td>Great taffy at a great price.  There was a wid...</td>\n",
       "    </tr>\n",
       "  </tbody>\n",
       "</table>\n",
       "</div>"
      ],
      "text/plain": [
       "   Id   ProductId          UserId                      ProfileName  \\\n",
       "0   1  B001E4KFG0  A3SGXH7AUHU8GW                       delmartian   \n",
       "1   2  B00813GRG4  A1D87F6ZCVE5NK                           dll pa   \n",
       "2   3  B000LQOCH0   ABXLMWJIXXAIN  Natalia Corres \"Natalia Corres\"   \n",
       "3   4  B000UA0QIQ  A395BORC6FGVXV                             Karl   \n",
       "4   5  B006K2ZZ7K  A1UQRSCLF8GW1T    Michael D. Bigham \"M. Wassir\"   \n",
       "\n",
       "   HelpfulnessNumerator  HelpfulnessDenominator  Score        Time  \\\n",
       "0                     1                       1      5  1303862400   \n",
       "1                     0                       0      1  1346976000   \n",
       "2                     1                       1      4  1219017600   \n",
       "3                     3                       3      2  1307923200   \n",
       "4                     0                       0      5  1350777600   \n",
       "\n",
       "                 Summary                                               Text  \n",
       "0  Good Quality Dog Food  I have bought several of the Vitality canned d...  \n",
       "1      Not as Advertised  Product arrived labeled as Jumbo Salted Peanut...  \n",
       "2  \"Delight\" says it all  This is a confection that has been around a fe...  \n",
       "3         Cough Medicine  If you are looking for the secret ingredient i...  \n",
       "4            Great taffy  Great taffy at a great price.  There was a wid...  "
      ]
     },
     "execution_count": 9,
     "metadata": {},
     "output_type": "execute_result"
    }
   ],
   "source": [
    "df.head()"
   ]
  },
  {
   "cell_type": "markdown",
   "metadata": {},
   "source": [
    "## Data Cleaning"
   ]
  },
  {
   "cell_type": "code",
   "execution_count": null,
   "metadata": {},
   "outputs": [],
   "source": []
  },
  {
   "cell_type": "code",
   "execution_count": 11,
   "metadata": {},
   "outputs": [],
   "source": [
    "'''removing confilcting review score and null summary entries'''\n",
    "df = df[df['Score'] != 3]\n",
    "df = df[df['Summary'].isnull() == False]"
   ]
  },
  {
   "cell_type": "code",
   "execution_count": 12,
   "metadata": {
    "scrolled": true
   },
   "outputs": [],
   "source": [
    "'''Converting <3 score to negative else positive'''\n",
    "df['Score'] = df['Score'].map(lambda x : 'positive' if x > 3 else 'negative')"
   ]
  },
  {
   "cell_type": "code",
   "execution_count": 13,
   "metadata": {},
   "outputs": [
    {
     "data": {
      "text/plain": [
       "(525789, 10)"
      ]
     },
     "execution_count": 13,
     "metadata": {},
     "output_type": "execute_result"
    }
   ],
   "source": [
    "df.shape"
   ]
  },
  {
   "cell_type": "code",
   "execution_count": 14,
   "metadata": {},
   "outputs": [
    {
     "data": {
      "text/html": [
       "<div>\n",
       "<style scoped>\n",
       "    .dataframe tbody tr th:only-of-type {\n",
       "        vertical-align: middle;\n",
       "    }\n",
       "\n",
       "    .dataframe tbody tr th {\n",
       "        vertical-align: top;\n",
       "    }\n",
       "\n",
       "    .dataframe thead th {\n",
       "        text-align: right;\n",
       "    }\n",
       "</style>\n",
       "<table border=\"1\" class=\"dataframe\">\n",
       "  <thead>\n",
       "    <tr style=\"text-align: right;\">\n",
       "      <th></th>\n",
       "      <th>Id</th>\n",
       "      <th>ProductId</th>\n",
       "      <th>UserId</th>\n",
       "      <th>ProfileName</th>\n",
       "      <th>HelpfulnessNumerator</th>\n",
       "      <th>HelpfulnessDenominator</th>\n",
       "      <th>Score</th>\n",
       "      <th>Time</th>\n",
       "      <th>Summary</th>\n",
       "      <th>Text</th>\n",
       "    </tr>\n",
       "  </thead>\n",
       "  <tbody>\n",
       "    <tr>\n",
       "      <th>0</th>\n",
       "      <td>1</td>\n",
       "      <td>B001E4KFG0</td>\n",
       "      <td>A3SGXH7AUHU8GW</td>\n",
       "      <td>delmartian</td>\n",
       "      <td>1</td>\n",
       "      <td>1</td>\n",
       "      <td>positive</td>\n",
       "      <td>1303862400</td>\n",
       "      <td>Good Quality Dog Food</td>\n",
       "      <td>I have bought several of the Vitality canned d...</td>\n",
       "    </tr>\n",
       "    <tr>\n",
       "      <th>1</th>\n",
       "      <td>2</td>\n",
       "      <td>B00813GRG4</td>\n",
       "      <td>A1D87F6ZCVE5NK</td>\n",
       "      <td>dll pa</td>\n",
       "      <td>0</td>\n",
       "      <td>0</td>\n",
       "      <td>negative</td>\n",
       "      <td>1346976000</td>\n",
       "      <td>Not as Advertised</td>\n",
       "      <td>Product arrived labeled as Jumbo Salted Peanut...</td>\n",
       "    </tr>\n",
       "    <tr>\n",
       "      <th>2</th>\n",
       "      <td>3</td>\n",
       "      <td>B000LQOCH0</td>\n",
       "      <td>ABXLMWJIXXAIN</td>\n",
       "      <td>Natalia Corres \"Natalia Corres\"</td>\n",
       "      <td>1</td>\n",
       "      <td>1</td>\n",
       "      <td>positive</td>\n",
       "      <td>1219017600</td>\n",
       "      <td>\"Delight\" says it all</td>\n",
       "      <td>This is a confection that has been around a fe...</td>\n",
       "    </tr>\n",
       "    <tr>\n",
       "      <th>3</th>\n",
       "      <td>4</td>\n",
       "      <td>B000UA0QIQ</td>\n",
       "      <td>A395BORC6FGVXV</td>\n",
       "      <td>Karl</td>\n",
       "      <td>3</td>\n",
       "      <td>3</td>\n",
       "      <td>negative</td>\n",
       "      <td>1307923200</td>\n",
       "      <td>Cough Medicine</td>\n",
       "      <td>If you are looking for the secret ingredient i...</td>\n",
       "    </tr>\n",
       "    <tr>\n",
       "      <th>4</th>\n",
       "      <td>5</td>\n",
       "      <td>B006K2ZZ7K</td>\n",
       "      <td>A1UQRSCLF8GW1T</td>\n",
       "      <td>Michael D. Bigham \"M. Wassir\"</td>\n",
       "      <td>0</td>\n",
       "      <td>0</td>\n",
       "      <td>positive</td>\n",
       "      <td>1350777600</td>\n",
       "      <td>Great taffy</td>\n",
       "      <td>Great taffy at a great price.  There was a wid...</td>\n",
       "    </tr>\n",
       "  </tbody>\n",
       "</table>\n",
       "</div>"
      ],
      "text/plain": [
       "   Id   ProductId          UserId                      ProfileName  \\\n",
       "0   1  B001E4KFG0  A3SGXH7AUHU8GW                       delmartian   \n",
       "1   2  B00813GRG4  A1D87F6ZCVE5NK                           dll pa   \n",
       "2   3  B000LQOCH0   ABXLMWJIXXAIN  Natalia Corres \"Natalia Corres\"   \n",
       "3   4  B000UA0QIQ  A395BORC6FGVXV                             Karl   \n",
       "4   5  B006K2ZZ7K  A1UQRSCLF8GW1T    Michael D. Bigham \"M. Wassir\"   \n",
       "\n",
       "   HelpfulnessNumerator  HelpfulnessDenominator     Score        Time  \\\n",
       "0                     1                       1  positive  1303862400   \n",
       "1                     0                       0  negative  1346976000   \n",
       "2                     1                       1  positive  1219017600   \n",
       "3                     3                       3  negative  1307923200   \n",
       "4                     0                       0  positive  1350777600   \n",
       "\n",
       "                 Summary                                               Text  \n",
       "0  Good Quality Dog Food  I have bought several of the Vitality canned d...  \n",
       "1      Not as Advertised  Product arrived labeled as Jumbo Salted Peanut...  \n",
       "2  \"Delight\" says it all  This is a confection that has been around a fe...  \n",
       "3         Cough Medicine  If you are looking for the secret ingredient i...  \n",
       "4            Great taffy  Great taffy at a great price.  There was a wid...  "
      ]
     },
     "execution_count": 14,
     "metadata": {},
     "output_type": "execute_result"
    }
   ],
   "source": [
    "df.head()"
   ]
  },
  {
   "cell_type": "code",
   "execution_count": 15,
   "metadata": {},
   "outputs": [
    {
     "data": {
      "text/html": [
       "<div>\n",
       "<style scoped>\n",
       "    .dataframe tbody tr th:only-of-type {\n",
       "        vertical-align: middle;\n",
       "    }\n",
       "\n",
       "    .dataframe tbody tr th {\n",
       "        vertical-align: top;\n",
       "    }\n",
       "\n",
       "    .dataframe thead th {\n",
       "        text-align: right;\n",
       "    }\n",
       "</style>\n",
       "<table border=\"1\" class=\"dataframe\">\n",
       "  <thead>\n",
       "    <tr style=\"text-align: right;\">\n",
       "      <th></th>\n",
       "      <th>Id</th>\n",
       "      <th>ProductId</th>\n",
       "      <th>UserId</th>\n",
       "      <th>ProfileName</th>\n",
       "      <th>HelpfulnessNumerator</th>\n",
       "      <th>HelpfulnessDenominator</th>\n",
       "      <th>Score</th>\n",
       "      <th>Time</th>\n",
       "      <th>Summary</th>\n",
       "      <th>Text</th>\n",
       "    </tr>\n",
       "  </thead>\n",
       "  <tbody>\n",
       "    <tr>\n",
       "      <th>73790</th>\n",
       "      <td>73791</td>\n",
       "      <td>B000HDOPZG</td>\n",
       "      <td>AR5J8UI46CURR</td>\n",
       "      <td>Geetha Krishnan</td>\n",
       "      <td>2</td>\n",
       "      <td>2</td>\n",
       "      <td>positive</td>\n",
       "      <td>1199577600</td>\n",
       "      <td>LOACKER QUADRATINI VANILLA WAFERS</td>\n",
       "      <td>DELICIOUS WAFERS. I FIND THAT EUROPEAN WAFERS ...</td>\n",
       "    </tr>\n",
       "    <tr>\n",
       "      <th>78444</th>\n",
       "      <td>78445</td>\n",
       "      <td>B000HDL1RQ</td>\n",
       "      <td>AR5J8UI46CURR</td>\n",
       "      <td>Geetha Krishnan</td>\n",
       "      <td>2</td>\n",
       "      <td>2</td>\n",
       "      <td>positive</td>\n",
       "      <td>1199577600</td>\n",
       "      <td>LOACKER QUADRATINI VANILLA WAFERS</td>\n",
       "      <td>DELICIOUS WAFERS. I FIND THAT EUROPEAN WAFERS ...</td>\n",
       "    </tr>\n",
       "    <tr>\n",
       "      <th>138276</th>\n",
       "      <td>138277</td>\n",
       "      <td>B000HDOPYM</td>\n",
       "      <td>AR5J8UI46CURR</td>\n",
       "      <td>Geetha Krishnan</td>\n",
       "      <td>2</td>\n",
       "      <td>2</td>\n",
       "      <td>positive</td>\n",
       "      <td>1199577600</td>\n",
       "      <td>LOACKER QUADRATINI VANILLA WAFERS</td>\n",
       "      <td>DELICIOUS WAFERS. I FIND THAT EUROPEAN WAFERS ...</td>\n",
       "    </tr>\n",
       "    <tr>\n",
       "      <th>138316</th>\n",
       "      <td>138317</td>\n",
       "      <td>B000HDOPYC</td>\n",
       "      <td>AR5J8UI46CURR</td>\n",
       "      <td>Geetha Krishnan</td>\n",
       "      <td>2</td>\n",
       "      <td>2</td>\n",
       "      <td>positive</td>\n",
       "      <td>1199577600</td>\n",
       "      <td>LOACKER QUADRATINI VANILLA WAFERS</td>\n",
       "      <td>DELICIOUS WAFERS. I FIND THAT EUROPEAN WAFERS ...</td>\n",
       "    </tr>\n",
       "    <tr>\n",
       "      <th>155048</th>\n",
       "      <td>155049</td>\n",
       "      <td>B000PAQ75C</td>\n",
       "      <td>AR5J8UI46CURR</td>\n",
       "      <td>Geetha Krishnan</td>\n",
       "      <td>2</td>\n",
       "      <td>2</td>\n",
       "      <td>positive</td>\n",
       "      <td>1199577600</td>\n",
       "      <td>LOACKER QUADRATINI VANILLA WAFERS</td>\n",
       "      <td>DELICIOUS WAFERS. I FIND THAT EUROPEAN WAFERS ...</td>\n",
       "    </tr>\n",
       "  </tbody>\n",
       "</table>\n",
       "</div>"
      ],
      "text/plain": [
       "            Id   ProductId         UserId      ProfileName  \\\n",
       "73790    73791  B000HDOPZG  AR5J8UI46CURR  Geetha Krishnan   \n",
       "78444    78445  B000HDL1RQ  AR5J8UI46CURR  Geetha Krishnan   \n",
       "138276  138277  B000HDOPYM  AR5J8UI46CURR  Geetha Krishnan   \n",
       "138316  138317  B000HDOPYC  AR5J8UI46CURR  Geetha Krishnan   \n",
       "155048  155049  B000PAQ75C  AR5J8UI46CURR  Geetha Krishnan   \n",
       "\n",
       "        HelpfulnessNumerator  HelpfulnessDenominator     Score        Time  \\\n",
       "73790                      2                       2  positive  1199577600   \n",
       "78444                      2                       2  positive  1199577600   \n",
       "138276                     2                       2  positive  1199577600   \n",
       "138316                     2                       2  positive  1199577600   \n",
       "155048                     2                       2  positive  1199577600   \n",
       "\n",
       "                                  Summary  \\\n",
       "73790   LOACKER QUADRATINI VANILLA WAFERS   \n",
       "78444   LOACKER QUADRATINI VANILLA WAFERS   \n",
       "138276  LOACKER QUADRATINI VANILLA WAFERS   \n",
       "138316  LOACKER QUADRATINI VANILLA WAFERS   \n",
       "155048  LOACKER QUADRATINI VANILLA WAFERS   \n",
       "\n",
       "                                                     Text  \n",
       "73790   DELICIOUS WAFERS. I FIND THAT EUROPEAN WAFERS ...  \n",
       "78444   DELICIOUS WAFERS. I FIND THAT EUROPEAN WAFERS ...  \n",
       "138276  DELICIOUS WAFERS. I FIND THAT EUROPEAN WAFERS ...  \n",
       "138316  DELICIOUS WAFERS. I FIND THAT EUROPEAN WAFERS ...  \n",
       "155048  DELICIOUS WAFERS. I FIND THAT EUROPEAN WAFERS ...  "
      ]
     },
     "execution_count": 15,
     "metadata": {},
     "output_type": "execute_result"
    }
   ],
   "source": [
    "''' \n",
    "    1. Duplicate entries in the table\n",
    "    2. Like same person at same time reviewed different products. How?\n",
    "    3. Remove such entries. \n",
    "'''\n",
    "df[df['UserId'] == 'AR5J8UI46CURR']"
   ]
  },
  {
   "cell_type": "code",
   "execution_count": 16,
   "metadata": {},
   "outputs": [],
   "source": [
    "'''Sorting data according to ProductId in ascending order'''\n",
    "sorted_data = df.sort_values(['UserId', 'Time'], axis=0, ascending=True, inplace=False, kind='mergesort', na_position='last')"
   ]
  },
  {
   "cell_type": "code",
   "execution_count": 17,
   "metadata": {},
   "outputs": [
    {
     "data": {
      "text/plain": [
       "(364172, 10)"
      ]
     },
     "execution_count": 17,
     "metadata": {},
     "output_type": "execute_result"
    }
   ],
   "source": [
    "'''Deduplication of entries groupby User, profile name, time and review'''\n",
    "final=sorted_data.drop_duplicates(subset={\"UserId\",\"ProfileName\",\"Time\",\"Text\"}, keep='first', inplace=False)\n",
    "final.shape"
   ]
  },
  {
   "cell_type": "code",
   "execution_count": 18,
   "metadata": {},
   "outputs": [
    {
     "data": {
      "text/html": [
       "<div>\n",
       "<style scoped>\n",
       "    .dataframe tbody tr th:only-of-type {\n",
       "        vertical-align: middle;\n",
       "    }\n",
       "\n",
       "    .dataframe tbody tr th {\n",
       "        vertical-align: top;\n",
       "    }\n",
       "\n",
       "    .dataframe thead th {\n",
       "        text-align: right;\n",
       "    }\n",
       "</style>\n",
       "<table border=\"1\" class=\"dataframe\">\n",
       "  <thead>\n",
       "    <tr style=\"text-align: right;\">\n",
       "      <th></th>\n",
       "      <th>Id</th>\n",
       "      <th>ProductId</th>\n",
       "      <th>UserId</th>\n",
       "      <th>ProfileName</th>\n",
       "      <th>HelpfulnessNumerator</th>\n",
       "      <th>HelpfulnessDenominator</th>\n",
       "      <th>Score</th>\n",
       "      <th>Time</th>\n",
       "      <th>Summary</th>\n",
       "      <th>Text</th>\n",
       "    </tr>\n",
       "  </thead>\n",
       "  <tbody>\n",
       "    <tr>\n",
       "      <th>73790</th>\n",
       "      <td>73791</td>\n",
       "      <td>B000HDOPZG</td>\n",
       "      <td>AR5J8UI46CURR</td>\n",
       "      <td>Geetha Krishnan</td>\n",
       "      <td>2</td>\n",
       "      <td>2</td>\n",
       "      <td>positive</td>\n",
       "      <td>1199577600</td>\n",
       "      <td>LOACKER QUADRATINI VANILLA WAFERS</td>\n",
       "      <td>DELICIOUS WAFERS. I FIND THAT EUROPEAN WAFERS ...</td>\n",
       "    </tr>\n",
       "  </tbody>\n",
       "</table>\n",
       "</div>"
      ],
      "text/plain": [
       "          Id   ProductId         UserId      ProfileName  \\\n",
       "73790  73791  B000HDOPZG  AR5J8UI46CURR  Geetha Krishnan   \n",
       "\n",
       "       HelpfulnessNumerator  HelpfulnessDenominator     Score        Time  \\\n",
       "73790                     2                       2  positive  1199577600   \n",
       "\n",
       "                                 Summary  \\\n",
       "73790  LOACKER QUADRATINI VANILLA WAFERS   \n",
       "\n",
       "                                                    Text  \n",
       "73790  DELICIOUS WAFERS. I FIND THAT EUROPEAN WAFERS ...  "
      ]
     },
     "execution_count": 18,
     "metadata": {},
     "output_type": "execute_result"
    }
   ],
   "source": [
    "final[final['UserId'] == 'AR5J8UI46CURR']"
   ]
  },
  {
   "cell_type": "code",
   "execution_count": 19,
   "metadata": {},
   "outputs": [
    {
     "data": {
      "text/html": [
       "<div>\n",
       "<style scoped>\n",
       "    .dataframe tbody tr th:only-of-type {\n",
       "        vertical-align: middle;\n",
       "    }\n",
       "\n",
       "    .dataframe tbody tr th {\n",
       "        vertical-align: top;\n",
       "    }\n",
       "\n",
       "    .dataframe thead th {\n",
       "        text-align: right;\n",
       "    }\n",
       "</style>\n",
       "<table border=\"1\" class=\"dataframe\">\n",
       "  <thead>\n",
       "    <tr style=\"text-align: right;\">\n",
       "      <th></th>\n",
       "      <th>Id</th>\n",
       "      <th>ProductId</th>\n",
       "      <th>UserId</th>\n",
       "      <th>ProfileName</th>\n",
       "      <th>HelpfulnessNumerator</th>\n",
       "      <th>HelpfulnessDenominator</th>\n",
       "      <th>Score</th>\n",
       "      <th>Time</th>\n",
       "      <th>Summary</th>\n",
       "      <th>Text</th>\n",
       "    </tr>\n",
       "  </thead>\n",
       "  <tbody>\n",
       "    <tr>\n",
       "      <th>64421</th>\n",
       "      <td>64422</td>\n",
       "      <td>B000MIDROQ</td>\n",
       "      <td>A161DK06JJMCYF</td>\n",
       "      <td>J. E. Stephens \"Jeanne\"</td>\n",
       "      <td>3</td>\n",
       "      <td>1</td>\n",
       "      <td>positive</td>\n",
       "      <td>1224892800</td>\n",
       "      <td>Bought This for My Son at College</td>\n",
       "      <td>My son loves spaghetti so I didn't hesitate or...</td>\n",
       "    </tr>\n",
       "    <tr>\n",
       "      <th>44736</th>\n",
       "      <td>44737</td>\n",
       "      <td>B001EQ55RW</td>\n",
       "      <td>A2V0I904FH7ABY</td>\n",
       "      <td>Ram</td>\n",
       "      <td>3</td>\n",
       "      <td>2</td>\n",
       "      <td>positive</td>\n",
       "      <td>1212883200</td>\n",
       "      <td>Pure cocoa taste with crunchy almonds inside</td>\n",
       "      <td>It was almost a 'love at first bite' - the per...</td>\n",
       "    </tr>\n",
       "  </tbody>\n",
       "</table>\n",
       "</div>"
      ],
      "text/plain": [
       "          Id   ProductId          UserId              ProfileName  \\\n",
       "64421  64422  B000MIDROQ  A161DK06JJMCYF  J. E. Stephens \"Jeanne\"   \n",
       "44736  44737  B001EQ55RW  A2V0I904FH7ABY                      Ram   \n",
       "\n",
       "       HelpfulnessNumerator  HelpfulnessDenominator     Score        Time  \\\n",
       "64421                     3                       1  positive  1224892800   \n",
       "44736                     3                       2  positive  1212883200   \n",
       "\n",
       "                                            Summary  \\\n",
       "64421             Bought This for My Son at College   \n",
       "44736  Pure cocoa taste with crunchy almonds inside   \n",
       "\n",
       "                                                    Text  \n",
       "64421  My son loves spaghetti so I didn't hesitate or...  \n",
       "44736  It was almost a 'love at first bite' - the per...  "
      ]
     },
     "execution_count": 19,
     "metadata": {},
     "output_type": "execute_result"
    }
   ],
   "source": [
    "final[final['HelpfulnessNumerator'] > final['HelpfulnessDenominator']]"
   ]
  },
  {
   "cell_type": "markdown",
   "metadata": {},
   "source": [
    "<b>Observation:-</b> Two rows given above have value of HelpfulnessNumerator is greater than HelpfulnessDenominator which is not practically possible hence these two rows too are removed from calcualtions"
   ]
  },
  {
   "cell_type": "code",
   "execution_count": 20,
   "metadata": {},
   "outputs": [],
   "source": [
    "final = final[final['HelpfulnessNumerator'] <= final['HelpfulnessDenominator']]"
   ]
  },
  {
   "cell_type": "code",
   "execution_count": 21,
   "metadata": {},
   "outputs": [
    {
     "data": {
      "text/plain": [
       "64.06323114975002"
      ]
     },
     "execution_count": 21,
     "metadata": {},
     "output_type": "execute_result"
    }
   ],
   "source": [
    "'''Checking to see how much % of data still remains'''\n",
    "(final['Id'].size*1.0)/(original_row[0]*1.0)*100"
   ]
  },
  {
   "cell_type": "code",
   "execution_count": 22,
   "metadata": {},
   "outputs": [
    {
     "data": {
      "text/plain": [
       "positive    307061\n",
       "negative     57109\n",
       "Name: Score, dtype: int64"
      ]
     },
     "execution_count": 22,
     "metadata": {},
     "output_type": "execute_result"
    }
   ],
   "source": [
    "final['Score'].value_counts()"
   ]
  },
  {
   "cell_type": "markdown",
   "metadata": {},
   "source": [
    "### Text Preprocessing:"
   ]
  },
  {
   "cell_type": "code",
   "execution_count": 23,
   "metadata": {
    "scrolled": true
   },
   "outputs": [
    {
     "name": "stdout",
     "output_type": "stream",
     "text": [
      "I have to say I was a little apprehensive to buy this product for the price, but I like to keep my K-Cup price under $0.50 and Sam's Club was sold out at the time, and I tried this.  The Fuhgeddaboudit is very strong, but that's how I like it.  Overall, I was impressed.\n",
      "Received my free K cups as a sample promotion and LOVE them. I have at least one a day at work!!!!\n",
      "Brooklyn Bean Roastery Blend K-Cups are great tasting coffee. I like the Breakfast blend flavor the best, it is light tasting and it surprised me how fast it wakes you up. The dark roasts Fudgeddaboutit and Cyclone have a stronger rich flavor. I think the donut shop and maple flavor is sweet flavored and light which is good in coffee. The Brooklyn Bridge is a good well balanced coffee. I think the Breakfast Blend flavor is the best flavor and it wakes you up quickly.\n",
      "Brooklyn \"French Roast\" K-Cup Coffee is not one of my favorites. It's not awful.  It's okay if you're in a \"pinch\" and it's the only pod you have.  I ended up giving my entire box to a friend.  I wasn't a fan.  There was nothing special or memorable about the taste.  I won't buy it again and I won't recommend it.\n",
      "Overall its just OK when considering the price of other K-cups.  The SF Coffee K-cups do not look like other K-cups in that they do not have the plastic base which contains and seals around the coffee filter.  This exposes the coffee to air and faster oxidation.  When drinking the coffee it lacks a fresh flavor and tastes a bit stale.  The K-cups come in a sealed plastic bag, but once its opened, the k-cups are exposed to air and they quickly go stale.<br /><br />The coffee flavor is a bit weak as well.  The lack of the plastic housing around the coffee filter, in my opinion, causes the water to flow thru the coffee too quickly and contributes to a weak flavor.<br /><br />I don't think I would buy these again.\n",
      "I love chocolate so I was excited to see the Chocolate Sampler Gift Basket by Back Mountain Baskets available in Vine to review. After reading a few other reviews on the strange packaging, I was almost afraid to open it - who knows what I would find. My daughter had a strong chocolate urge so we pulled off the wrappers.<br /><br />Oh my gosh, it is hard to know what to say. What was this company thinking?<br /><br />Let's start with the packaging. At first glance the basket looks simple yet classy and attractive and boasting what appears to be an assortment of delectable chocolates. That illusion is lost once you have opened the package. There are paper wrappings around boxes with the product name. But the actual boxes are for common grocery items like jello, fruit loops, flan etc. Can you imagine diving into a box of truffles that say Kenzi on the surface only to find the box below is for jello? A box of jello whose expiration was several years ago. How long does one keep old cereal boxes around, but more importantly, why would you package gift basket chocolate in old jello and cereal boxes?<br /><br />One of the boxes has a computer generated label that has been cheaply made and taped to it.<br /><br />So what is in the box? Well in one I pulled out a bag of peanuts that had melted and then solidified in one chunk. In another were small brown things that I believe were supposed to be truffles. There were also some wrapped cheap chocolate such as a chocolate graham cracker.<br /><br />The entire basket was unappetizing and unappealing. I can't share how the chocolate tastes, because after pulling it out of jello and flan boxes and seeing the melted condition, there was no way I was eating it despite my love for chocolate.<br /><br />With proper packaging and shipping, there would be a much better result but as it is now, it should not be for sale.<br /><br />This is definitely not a gift basket you will want to give.\n",
      "My wife has recurring extreme muscle spasms, usually late at night or early morning.  We started to use this water for her about 6 months ago.  It has been the best purchase we have ever made [I am not kidding].  I haven't noticed anyone mentioning this benefit, but I can assure you it works!!  We ran out a couple of days ago and had to wait and do without for about 3 days.  She had awful muscle spasms in both legs last night.  Back to where she was before we starting using this water.  We were really thankful that we received 3 cases this morning.  I have vowed \"as god is my witness I will never run out of Essentia water again\" {from the movie Gone with the wind, ha ha]. But for real, we are now ordering 4 case per month so that we will never run out again.\n",
      "This coffee is horrible and unfortunately not eligible for return. It tastes like burnt wood shavings. Looks like its going into the compost pile.\n",
      "This will be the bottle that you grab from the fridge if you are really thirsty!  The bottles are big!  I like that about them because I can grab one and drink from it for a couple of hours and really stay hydrated.  The taste is just cool, clean and refreshing.  No aftertaste at all.  This is good water.\n"
     ]
    }
   ],
   "source": [
    "'''observe the data for cleaning text'''\n",
    "c = 1\n",
    "for i, row in final.iterrows():\n",
    "    if(c < 10):\n",
    "        print(row['Text'])\n",
    "    else:\n",
    "        break\n",
    "    c += 1"
   ]
  },
  {
   "cell_type": "markdown",
   "metadata": {},
   "source": [
    "1. Begin by removing the html tags\n",
    "2. Remove any punctuations or limited set of special characters like , or . or # etc.\n",
    "3. Check if the word is made up of english letters and is not alpha-numeric\n",
    "4. Check to see if the length of the word is greater than 2 (as it was researched that there is no adjective in 2-letters)\n",
    "5. Convert the word to lowercase\n",
    "6. Remove Stopwords\n",
    "7. Finally Snowball Stemming the word (it was obsereved to be better than Porter Stemming)<br>\n",
    "\n",
    "After which we collect the words used to describe positive and negative reviews"
   ]
  },
  {
   "cell_type": "code",
   "execution_count": 24,
   "metadata": {},
   "outputs": [],
   "source": [
    "import re\n",
    "import string\n",
    "import nltk\n",
    "# nltk.download(\"stopwords\")\n",
    "# nltk.download('averaged_perceptron_tagger')\n",
    "# nltk.download('wordnet')\n",
    "from nltk.corpus import stopwords\n",
    "\n",
    "# Finding stop words\n",
    "stop_words = set(stopwords.words('english'))"
   ]
  },
  {
   "cell_type": "code",
   "execution_count": 25,
   "metadata": {},
   "outputs": [],
   "source": [
    "def preprocess_document(doc):\n",
    "    # negative sense should not be eleminated + some short representation\n",
    "    CONTRACTIONS = {\"didn't\":\"did not\", \"mayn't\":\"may not\", \"can't\":\"can not\", \"won't\":\"will not\", \"isn't\":\"is not\", \"amn't\":\"am not\",\\\n",
    "                  \"aren't\":\"are not\", \"wasn't\":\"was not\", \"weren't\":\"were not\", \"couldn't\":\"could not\", \\\n",
    "                  \"wouldn't\":\"would not\", \"don't\":\"do not\", \"doesn't\":\"does not\",\\\n",
    "                  \"i'll\":\"i will\", \"you'll\":\"you will\", \"they'll\":\"they will\",\\\n",
    "                  \"may've\":\"may have\", \"can've\":\"can have\", \"will've\":\"will have\", \"you've\":\"you have\", \\\n",
    "                  \"could've\":\"could have\", \"would've\":\"would have\", \"you've\":\"you have\", \"they\":\"they have\",\\\n",
    "                  \"i've\":\"i have\", \"you've\":\"you have\", \"we've\":\"we have\", \"there's\":\"there is\", \"i'm\":\"i am\",\\\n",
    "                  \"it's\":\"it is\", \"what's\":\"what is\", \"where's\":\"where is\", \"how's\":\"how is\", \"i'd\":\"i had\"}\n",
    "    punctuation = string.punctuation + \"\\n\\n\"\n",
    "    punc_replace = ''.join([' ' for s in punctuation]) # required for replacing punctuation with null ('')\n",
    "    doc_clean = doc.replace('-', ' ') # replace - with null str\n",
    "    doc_clean = (doc_clean.encode('ascii', 'ignore')).decode(\"utf-8\")\n",
    "    doc_clean = doc_clean.replace('<br />', '') # replace <br /> with ''\n",
    "    doc_clean = doc_clean.replace(\"’\", \"'\") # replace <br /> with null str\n",
    "    doc_clean = [CONTRACTIONS[word] if word in CONTRACTIONS else word for word in doc_clean.split(' ')] # replacing some common short forms\n",
    "    doc_clean = \" \".join(doc_clean) # list to sentence of strings\n",
    "    doc_clean = re.sub(r'\\W +', ' ', doc_clean) # except [a-zA-Z0-9_]\n",
    "    doc_clean = re.sub(r'\\d+', ' ', doc_clean) # remove numbers [0-9]\n",
    "    trans_table = str.maketrans(punctuation, punc_replace); # replace punctuations with ' '\n",
    "    doc_clean = ' '.join([word.translate(trans_table) for word in doc_clean.split(' ')])\n",
    "    doc_clean = doc_clean.split(' ')\n",
    "    doc_clean = [word for word in doc_clean if len(word) > 1]\n",
    "    # removing the stopwords from a sentence\n",
    "    doc_clean = [word for word in doc_clean if not word.lower() in stop_words or word.lower() == 'not' or word.lower() == 'no']\n",
    "    return ' '.join(word for word in doc_clean)\n",
    "#     lemmatizedWords = []\n",
    "#     lemmatizer = nltk.WordNetLemmatizer()\n",
    "#     for words, tags in nltk.tag.pos_tag(doc_clean):\n",
    "#         if(tags.startswith('JJ')):\n",
    "#             lemmatizedWords.append(lemmatizer.lemmatize(words, pos='a'))\n",
    "#         elif(tags.startswith('VB')):\n",
    "#             lemmatizedWords.append(lemmatizer.lemmatize(words, pos='v'))\n",
    "#         elif(tags.startswith('RB')):\n",
    "#             lemmatizedWords.append(lemmatizer.lemmatize(words, pos='r'))\n",
    "#         elif(tags.startswith('NN')):\n",
    "#             lemmatizedWords.append(lemmatizer.lemmatize(words, pos='n'))\n",
    "#         else:\n",
    "#             lemmatizedWords.append(lemmatizer.lemmatize(words))\n",
    "    \n",
    "#     return lemmatizedWords"
   ]
  },
  {
   "cell_type": "code",
   "execution_count": 26,
   "metadata": {},
   "outputs": [
    {
     "data": {
      "text/html": [
       "<div>\n",
       "<style scoped>\n",
       "    .dataframe tbody tr th:only-of-type {\n",
       "        vertical-align: middle;\n",
       "    }\n",
       "\n",
       "    .dataframe tbody tr th {\n",
       "        vertical-align: top;\n",
       "    }\n",
       "\n",
       "    .dataframe thead th {\n",
       "        text-align: right;\n",
       "    }\n",
       "</style>\n",
       "<table border=\"1\" class=\"dataframe\">\n",
       "  <thead>\n",
       "    <tr style=\"text-align: right;\">\n",
       "      <th></th>\n",
       "      <th>Id</th>\n",
       "      <th>ProductId</th>\n",
       "      <th>UserId</th>\n",
       "      <th>ProfileName</th>\n",
       "      <th>HelpfulnessNumerator</th>\n",
       "      <th>HelpfulnessDenominator</th>\n",
       "      <th>Score</th>\n",
       "      <th>Time</th>\n",
       "      <th>Summary</th>\n",
       "      <th>Text</th>\n",
       "    </tr>\n",
       "  </thead>\n",
       "  <tbody>\n",
       "    <tr>\n",
       "      <th>136322</th>\n",
       "      <td>136323</td>\n",
       "      <td>B006Q820X0</td>\n",
       "      <td>#oc-R103C0QSV1DF5E</td>\n",
       "      <td>C</td>\n",
       "      <td>1</td>\n",
       "      <td>2</td>\n",
       "      <td>positive</td>\n",
       "      <td>1343088000</td>\n",
       "      <td>Great for the Price</td>\n",
       "      <td>I have to say I was a little apprehensive to b...</td>\n",
       "    </tr>\n",
       "    <tr>\n",
       "      <th>516061</th>\n",
       "      <td>516062</td>\n",
       "      <td>B008I1XPKA</td>\n",
       "      <td>#oc-R109MU5OBBZ59U</td>\n",
       "      <td>AayGee</td>\n",
       "      <td>0</td>\n",
       "      <td>1</td>\n",
       "      <td>positive</td>\n",
       "      <td>1350086400</td>\n",
       "      <td>AWESOME Coffee!!!!</td>\n",
       "      <td>Received my free K cups as a sample promotion ...</td>\n",
       "    </tr>\n",
       "    <tr>\n",
       "      <th>516078</th>\n",
       "      <td>516079</td>\n",
       "      <td>B008I1XPKA</td>\n",
       "      <td>#oc-R10LFEMQEW6QGZ</td>\n",
       "      <td>Julie</td>\n",
       "      <td>0</td>\n",
       "      <td>1</td>\n",
       "      <td>positive</td>\n",
       "      <td>1345939200</td>\n",
       "      <td>Brooklyn Bean Roastery Breakfast Blend K-Cups</td>\n",
       "      <td>Brooklyn Bean Roastery Blend K-Cups are great ...</td>\n",
       "    </tr>\n",
       "    <tr>\n",
       "      <th>136544</th>\n",
       "      <td>136545</td>\n",
       "      <td>B006Q820X0</td>\n",
       "      <td>#oc-R10UA029WVWIUI</td>\n",
       "      <td>Kim D</td>\n",
       "      <td>0</td>\n",
       "      <td>0</td>\n",
       "      <td>negative</td>\n",
       "      <td>1342483200</td>\n",
       "      <td>Less than satisfactory.  I gave the Brooklyn K...</td>\n",
       "      <td>Brooklyn \"French Roast\" K-Cup Coffee is not on...</td>\n",
       "    </tr>\n",
       "    <tr>\n",
       "      <th>83317</th>\n",
       "      <td>83318</td>\n",
       "      <td>B005ZBZLT4</td>\n",
       "      <td>#oc-R115TNMSPFT9I7</td>\n",
       "      <td>Breyton</td>\n",
       "      <td>2</td>\n",
       "      <td>3</td>\n",
       "      <td>negative</td>\n",
       "      <td>1331510400</td>\n",
       "      <td>\"Green\" K-cup packaging sacrifices flavor</td>\n",
       "      <td>Overall its just OK when considering the price...</td>\n",
       "    </tr>\n",
       "  </tbody>\n",
       "</table>\n",
       "</div>"
      ],
      "text/plain": [
       "            Id   ProductId              UserId ProfileName  \\\n",
       "136322  136323  B006Q820X0  #oc-R103C0QSV1DF5E           C   \n",
       "516061  516062  B008I1XPKA  #oc-R109MU5OBBZ59U      AayGee   \n",
       "516078  516079  B008I1XPKA  #oc-R10LFEMQEW6QGZ       Julie   \n",
       "136544  136545  B006Q820X0  #oc-R10UA029WVWIUI       Kim D   \n",
       "83317    83318  B005ZBZLT4  #oc-R115TNMSPFT9I7     Breyton   \n",
       "\n",
       "        HelpfulnessNumerator  HelpfulnessDenominator     Score        Time  \\\n",
       "136322                     1                       2  positive  1343088000   \n",
       "516061                     0                       1  positive  1350086400   \n",
       "516078                     0                       1  positive  1345939200   \n",
       "136544                     0                       0  negative  1342483200   \n",
       "83317                      2                       3  negative  1331510400   \n",
       "\n",
       "                                                  Summary  \\\n",
       "136322                                Great for the Price   \n",
       "516061                                 AWESOME Coffee!!!!   \n",
       "516078      Brooklyn Bean Roastery Breakfast Blend K-Cups   \n",
       "136544  Less than satisfactory.  I gave the Brooklyn K...   \n",
       "83317           \"Green\" K-cup packaging sacrifices flavor   \n",
       "\n",
       "                                                     Text  \n",
       "136322  I have to say I was a little apprehensive to b...  \n",
       "516061  Received my free K cups as a sample promotion ...  \n",
       "516078  Brooklyn Bean Roastery Blend K-Cups are great ...  \n",
       "136544  Brooklyn \"French Roast\" K-Cup Coffee is not on...  \n",
       "83317   Overall its just OK when considering the price...  "
      ]
     },
     "execution_count": 26,
     "metadata": {},
     "output_type": "execute_result"
    }
   ],
   "source": [
    "final.head()"
   ]
  },
  {
   "cell_type": "code",
   "execution_count": 27,
   "metadata": {},
   "outputs": [
    {
     "data": {
      "text/plain": [
       "[\"I have to say I was a little apprehensive to buy this product for the price, but I like to keep my K-Cup price under $0.50 and Sam's Club was sold out at the time, and I tried this.  The Fuhgeddaboudit is very strong, but that's how I like it.  Overall, I was impressed.\",\n",
       " 'Received my free K cups as a sample promotion and LOVE them. I have at least one a day at work!!!!',\n",
       " 'Brooklyn Bean Roastery Blend K-Cups are great tasting coffee. I like the Breakfast blend flavor the best, it is light tasting and it surprised me how fast it wakes you up. The dark roasts Fudgeddaboutit and Cyclone have a stronger rich flavor. I think the donut shop and maple flavor is sweet flavored and light which is good in coffee. The Brooklyn Bridge is a good well balanced coffee. I think the Breakfast Blend flavor is the best flavor and it wakes you up quickly.',\n",
       " 'Brooklyn \"French Roast\" K-Cup Coffee is not one of my favorites. It\\'s not awful.  It\\'s okay if you\\'re in a \"pinch\" and it\\'s the only pod you have.  I ended up giving my entire box to a friend.  I wasn\\'t a fan.  There was nothing special or memorable about the taste.  I won\\'t buy it again and I won\\'t recommend it.',\n",
       " \"Overall its just OK when considering the price of other K-cups.  The SF Coffee K-cups do not look like other K-cups in that they do not have the plastic base which contains and seals around the coffee filter.  This exposes the coffee to air and faster oxidation.  When drinking the coffee it lacks a fresh flavor and tastes a bit stale.  The K-cups come in a sealed plastic bag, but once its opened, the k-cups are exposed to air and they quickly go stale.<br /><br />The coffee flavor is a bit weak as well.  The lack of the plastic housing around the coffee filter, in my opinion, causes the water to flow thru the coffee too quickly and contributes to a weak flavor.<br /><br />I don't think I would buy these again.\"]"
      ]
     },
     "execution_count": 27,
     "metadata": {},
     "output_type": "execute_result"
    }
   ],
   "source": [
    "text = final['Text'].astype(str).tolist()\n",
    "text[:5]"
   ]
  },
  {
   "cell_type": "code",
   "execution_count": 28,
   "metadata": {},
   "outputs": [
    {
     "name": "stdout",
     "output_type": "stream",
     "text": [
      "103.58044171333313 sec.\n"
     ]
    }
   ],
   "source": [
    "import time\n",
    "tic = time.time()\n",
    "cleaned_text = [preprocess_document(review.lower()) for review in text]\n",
    "toc = time.time()\n",
    "print(str(toc-tic) + ' sec.')"
   ]
  },
  {
   "cell_type": "code",
   "execution_count": 29,
   "metadata": {},
   "outputs": [
    {
     "data": {
      "text/plain": [
       "[\"I have to say I was a little apprehensive to buy this product for the price, but I like to keep my K-Cup price under $0.50 and Sam's Club was sold out at the time, and I tried this.  The Fuhgeddaboudit is very strong, but that's how I like it.  Overall, I was impressed.\",\n",
       " 'Received my free K cups as a sample promotion and LOVE them. I have at least one a day at work!!!!',\n",
       " 'Brooklyn Bean Roastery Blend K-Cups are great tasting coffee. I like the Breakfast blend flavor the best, it is light tasting and it surprised me how fast it wakes you up. The dark roasts Fudgeddaboutit and Cyclone have a stronger rich flavor. I think the donut shop and maple flavor is sweet flavored and light which is good in coffee. The Brooklyn Bridge is a good well balanced coffee. I think the Breakfast Blend flavor is the best flavor and it wakes you up quickly.',\n",
       " 'Brooklyn \"French Roast\" K-Cup Coffee is not one of my favorites. It\\'s not awful.  It\\'s okay if you\\'re in a \"pinch\" and it\\'s the only pod you have.  I ended up giving my entire box to a friend.  I wasn\\'t a fan.  There was nothing special or memorable about the taste.  I won\\'t buy it again and I won\\'t recommend it.',\n",
       " \"Overall its just OK when considering the price of other K-cups.  The SF Coffee K-cups do not look like other K-cups in that they do not have the plastic base which contains and seals around the coffee filter.  This exposes the coffee to air and faster oxidation.  When drinking the coffee it lacks a fresh flavor and tastes a bit stale.  The K-cups come in a sealed plastic bag, but once its opened, the k-cups are exposed to air and they quickly go stale.<br /><br />The coffee flavor is a bit weak as well.  The lack of the plastic housing around the coffee filter, in my opinion, causes the water to flow thru the coffee too quickly and contributes to a weak flavor.<br /><br />I don't think I would buy these again.\"]"
      ]
     },
     "execution_count": 29,
     "metadata": {},
     "output_type": "execute_result"
    }
   ],
   "source": [
    "text[:5]"
   ]
  },
  {
   "cell_type": "code",
   "execution_count": 30,
   "metadata": {},
   "outputs": [],
   "source": [
    "'''did not lemmatised, taking too much time, if u want uncomment it in preprocessing'''\n",
    "final['cleaned_text'] = cleaned_text"
   ]
  },
  {
   "cell_type": "code",
   "execution_count": 36,
   "metadata": {},
   "outputs": [
    {
     "data": {
      "text/html": [
       "<div>\n",
       "<style scoped>\n",
       "    .dataframe tbody tr th:only-of-type {\n",
       "        vertical-align: middle;\n",
       "    }\n",
       "\n",
       "    .dataframe tbody tr th {\n",
       "        vertical-align: top;\n",
       "    }\n",
       "\n",
       "    .dataframe thead th {\n",
       "        text-align: right;\n",
       "    }\n",
       "</style>\n",
       "<table border=\"1\" class=\"dataframe\">\n",
       "  <thead>\n",
       "    <tr style=\"text-align: right;\">\n",
       "      <th></th>\n",
       "      <th>Id</th>\n",
       "      <th>ProductId</th>\n",
       "      <th>UserId</th>\n",
       "      <th>ProfileName</th>\n",
       "      <th>HelpfulnessNumerator</th>\n",
       "      <th>HelpfulnessDenominator</th>\n",
       "      <th>Score</th>\n",
       "      <th>Time</th>\n",
       "      <th>Summary</th>\n",
       "      <th>Text</th>\n",
       "      <th>cleaned_text</th>\n",
       "    </tr>\n",
       "  </thead>\n",
       "  <tbody>\n",
       "    <tr>\n",
       "      <th>233938</th>\n",
       "      <td>233939</td>\n",
       "      <td>B003E6COMO</td>\n",
       "      <td>A2ZE58VIDDCMR7</td>\n",
       "      <td>inna</td>\n",
       "      <td>1</td>\n",
       "      <td>2</td>\n",
       "      <td>positive</td>\n",
       "      <td>1350000000</td>\n",
       "      <td>&amp;#1091;&amp;#1076;&amp;#1086;&amp;#1073;&amp;#1085;&amp;#1072;&amp;#11...</td>\n",
       "      <td>&amp;#1056;&amp;#1077;&amp;#1096;&amp;#1080;&amp;#1083;&amp;#1072; &amp;#1...</td>\n",
       "      <td></td>\n",
       "    </tr>\n",
       "  </tbody>\n",
       "</table>\n",
       "</div>"
      ],
      "text/plain": [
       "            Id   ProductId          UserId ProfileName  HelpfulnessNumerator  \\\n",
       "233938  233939  B003E6COMO  A2ZE58VIDDCMR7        inna                     1   \n",
       "\n",
       "        HelpfulnessDenominator     Score        Time  \\\n",
       "233938                       2  positive  1350000000   \n",
       "\n",
       "                                                  Summary  \\\n",
       "233938  &#1091;&#1076;&#1086;&#1073;&#1085;&#1072;&#11...   \n",
       "\n",
       "                                                     Text cleaned_text  \n",
       "233938  &#1056;&#1077;&#1096;&#1080;&#1083;&#1072; &#1...               "
      ]
     },
     "execution_count": 36,
     "metadata": {},
     "output_type": "execute_result"
    }
   ],
   "source": [
    "# final[final['cleaned_text'].isnull() == True]\n",
    "final[final.UserId =='A2ZE58VIDDCMR7']"
   ]
  },
  {
   "cell_type": "code",
   "execution_count": 33,
   "metadata": {},
   "outputs": [
    {
     "data": {
      "text/html": [
       "<div>\n",
       "<style scoped>\n",
       "    .dataframe tbody tr th:only-of-type {\n",
       "        vertical-align: middle;\n",
       "    }\n",
       "\n",
       "    .dataframe tbody tr th {\n",
       "        vertical-align: top;\n",
       "    }\n",
       "\n",
       "    .dataframe thead th {\n",
       "        text-align: right;\n",
       "    }\n",
       "</style>\n",
       "<table border=\"1\" class=\"dataframe\">\n",
       "  <thead>\n",
       "    <tr style=\"text-align: right;\">\n",
       "      <th></th>\n",
       "      <th>Id</th>\n",
       "      <th>ProductId</th>\n",
       "      <th>UserId</th>\n",
       "      <th>ProfileName</th>\n",
       "      <th>HelpfulnessNumerator</th>\n",
       "      <th>HelpfulnessDenominator</th>\n",
       "      <th>Score</th>\n",
       "      <th>Time</th>\n",
       "      <th>Summary</th>\n",
       "      <th>Text</th>\n",
       "      <th>cleaned_text</th>\n",
       "    </tr>\n",
       "  </thead>\n",
       "  <tbody>\n",
       "    <tr>\n",
       "      <th>136322</th>\n",
       "      <td>136323</td>\n",
       "      <td>B006Q820X0</td>\n",
       "      <td>#oc-R103C0QSV1DF5E</td>\n",
       "      <td>C</td>\n",
       "      <td>1</td>\n",
       "      <td>2</td>\n",
       "      <td>positive</td>\n",
       "      <td>1343088000</td>\n",
       "      <td>Great for the Price</td>\n",
       "      <td>I have to say I was a little apprehensive to b...</td>\n",
       "      <td>say little apprehensive buy product price like...</td>\n",
       "    </tr>\n",
       "    <tr>\n",
       "      <th>516061</th>\n",
       "      <td>516062</td>\n",
       "      <td>B008I1XPKA</td>\n",
       "      <td>#oc-R109MU5OBBZ59U</td>\n",
       "      <td>AayGee</td>\n",
       "      <td>0</td>\n",
       "      <td>1</td>\n",
       "      <td>positive</td>\n",
       "      <td>1350086400</td>\n",
       "      <td>AWESOME Coffee!!!!</td>\n",
       "      <td>Received my free K cups as a sample promotion ...</td>\n",
       "      <td>received free cups sample promotion love least...</td>\n",
       "    </tr>\n",
       "    <tr>\n",
       "      <th>516078</th>\n",
       "      <td>516079</td>\n",
       "      <td>B008I1XPKA</td>\n",
       "      <td>#oc-R10LFEMQEW6QGZ</td>\n",
       "      <td>Julie</td>\n",
       "      <td>0</td>\n",
       "      <td>1</td>\n",
       "      <td>positive</td>\n",
       "      <td>1345939200</td>\n",
       "      <td>Brooklyn Bean Roastery Breakfast Blend K-Cups</td>\n",
       "      <td>Brooklyn Bean Roastery Blend K-Cups are great ...</td>\n",
       "      <td>brooklyn bean roastery blend cups great tastin...</td>\n",
       "    </tr>\n",
       "    <tr>\n",
       "      <th>136544</th>\n",
       "      <td>136545</td>\n",
       "      <td>B006Q820X0</td>\n",
       "      <td>#oc-R10UA029WVWIUI</td>\n",
       "      <td>Kim D</td>\n",
       "      <td>0</td>\n",
       "      <td>0</td>\n",
       "      <td>negative</td>\n",
       "      <td>1342483200</td>\n",
       "      <td>Less than satisfactory.  I gave the Brooklyn K...</td>\n",
       "      <td>Brooklyn \"French Roast\" K-Cup Coffee is not on...</td>\n",
       "      <td>brooklyn french roast cup coffee not one favor...</td>\n",
       "    </tr>\n",
       "    <tr>\n",
       "      <th>83317</th>\n",
       "      <td>83318</td>\n",
       "      <td>B005ZBZLT4</td>\n",
       "      <td>#oc-R115TNMSPFT9I7</td>\n",
       "      <td>Breyton</td>\n",
       "      <td>2</td>\n",
       "      <td>3</td>\n",
       "      <td>negative</td>\n",
       "      <td>1331510400</td>\n",
       "      <td>\"Green\" K-cup packaging sacrifices flavor</td>\n",
       "      <td>Overall its just OK when considering the price...</td>\n",
       "      <td>overall ok considering price cups sf coffee cu...</td>\n",
       "    </tr>\n",
       "  </tbody>\n",
       "</table>\n",
       "</div>"
      ],
      "text/plain": [
       "            Id   ProductId              UserId ProfileName  \\\n",
       "136322  136323  B006Q820X0  #oc-R103C0QSV1DF5E           C   \n",
       "516061  516062  B008I1XPKA  #oc-R109MU5OBBZ59U      AayGee   \n",
       "516078  516079  B008I1XPKA  #oc-R10LFEMQEW6QGZ       Julie   \n",
       "136544  136545  B006Q820X0  #oc-R10UA029WVWIUI       Kim D   \n",
       "83317    83318  B005ZBZLT4  #oc-R115TNMSPFT9I7     Breyton   \n",
       "\n",
       "        HelpfulnessNumerator  HelpfulnessDenominator     Score        Time  \\\n",
       "136322                     1                       2  positive  1343088000   \n",
       "516061                     0                       1  positive  1350086400   \n",
       "516078                     0                       1  positive  1345939200   \n",
       "136544                     0                       0  negative  1342483200   \n",
       "83317                      2                       3  negative  1331510400   \n",
       "\n",
       "                                                  Summary  \\\n",
       "136322                                Great for the Price   \n",
       "516061                                 AWESOME Coffee!!!!   \n",
       "516078      Brooklyn Bean Roastery Breakfast Blend K-Cups   \n",
       "136544  Less than satisfactory.  I gave the Brooklyn K...   \n",
       "83317           \"Green\" K-cup packaging sacrifices flavor   \n",
       "\n",
       "                                                     Text  \\\n",
       "136322  I have to say I was a little apprehensive to b...   \n",
       "516061  Received my free K cups as a sample promotion ...   \n",
       "516078  Brooklyn Bean Roastery Blend K-Cups are great ...   \n",
       "136544  Brooklyn \"French Roast\" K-Cup Coffee is not on...   \n",
       "83317   Overall its just OK when considering the price...   \n",
       "\n",
       "                                             cleaned_text  \n",
       "136322  say little apprehensive buy product price like...  \n",
       "516061  received free cups sample promotion love least...  \n",
       "516078  brooklyn bean roastery blend cups great tastin...  \n",
       "136544  brooklyn french roast cup coffee not one favor...  \n",
       "83317   overall ok considering price cups sf coffee cu...  "
      ]
     },
     "execution_count": 33,
     "metadata": {},
     "output_type": "execute_result"
    }
   ],
   "source": [
    "final.head()"
   ]
  },
  {
   "cell_type": "code",
   "execution_count": 34,
   "metadata": {},
   "outputs": [],
   "source": [
    "final.to_csv('cleaned_reviews.csv', index=False)"
   ]
  },
  {
   "cell_type": "markdown",
   "metadata": {},
   "source": [
    "## Design Algorithm for sentiment classification"
   ]
  },
  {
   "cell_type": "code",
   "execution_count": 1,
   "metadata": {},
   "outputs": [],
   "source": [
    "%matplotlib inline\n",
    "import matplotlib.pyplot as plt\n",
    "import pandas as pd\n",
    "import numpy as np"
   ]
  },
  {
   "cell_type": "code",
   "execution_count": 77,
   "metadata": {},
   "outputs": [],
   "source": [
    "reviews = pd.read_csv('cleaned_reviews.csv')"
   ]
  },
  {
   "cell_type": "code",
   "execution_count": 78,
   "metadata": {},
   "outputs": [
    {
     "data": {
      "text/plain": [
       "(364170, 11)"
      ]
     },
     "execution_count": 78,
     "metadata": {},
     "output_type": "execute_result"
    }
   ],
   "source": [
    "reviews.shape"
   ]
  },
  {
   "cell_type": "code",
   "execution_count": 87,
   "metadata": {},
   "outputs": [
    {
     "data": {
      "text/html": [
       "<div>\n",
       "<style scoped>\n",
       "    .dataframe tbody tr th:only-of-type {\n",
       "        vertical-align: middle;\n",
       "    }\n",
       "\n",
       "    .dataframe tbody tr th {\n",
       "        vertical-align: top;\n",
       "    }\n",
       "\n",
       "    .dataframe thead th {\n",
       "        text-align: right;\n",
       "    }\n",
       "</style>\n",
       "<table border=\"1\" class=\"dataframe\">\n",
       "  <thead>\n",
       "    <tr style=\"text-align: right;\">\n",
       "      <th></th>\n",
       "      <th>Id</th>\n",
       "      <th>ProductId</th>\n",
       "      <th>UserId</th>\n",
       "      <th>ProfileName</th>\n",
       "      <th>HelpfulnessNumerator</th>\n",
       "      <th>HelpfulnessDenominator</th>\n",
       "      <th>Score</th>\n",
       "      <th>Time</th>\n",
       "      <th>Summary</th>\n",
       "      <th>Text</th>\n",
       "      <th>cleaned_text</th>\n",
       "    </tr>\n",
       "  </thead>\n",
       "  <tbody>\n",
       "    <tr>\n",
       "      <th>0</th>\n",
       "      <td>136323</td>\n",
       "      <td>B006Q820X0</td>\n",
       "      <td>#oc-R103C0QSV1DF5E</td>\n",
       "      <td>C</td>\n",
       "      <td>1</td>\n",
       "      <td>2</td>\n",
       "      <td>positive</td>\n",
       "      <td>1343088000</td>\n",
       "      <td>Great for the Price</td>\n",
       "      <td>I have to say I was a little apprehensive to b...</td>\n",
       "      <td>say little apprehensive buy product price like...</td>\n",
       "    </tr>\n",
       "    <tr>\n",
       "      <th>1</th>\n",
       "      <td>516062</td>\n",
       "      <td>B008I1XPKA</td>\n",
       "      <td>#oc-R109MU5OBBZ59U</td>\n",
       "      <td>AayGee</td>\n",
       "      <td>0</td>\n",
       "      <td>1</td>\n",
       "      <td>positive</td>\n",
       "      <td>1350086400</td>\n",
       "      <td>AWESOME Coffee!!!!</td>\n",
       "      <td>Received my free K cups as a sample promotion ...</td>\n",
       "      <td>received free cups sample promotion love least...</td>\n",
       "    </tr>\n",
       "    <tr>\n",
       "      <th>2</th>\n",
       "      <td>516079</td>\n",
       "      <td>B008I1XPKA</td>\n",
       "      <td>#oc-R10LFEMQEW6QGZ</td>\n",
       "      <td>Julie</td>\n",
       "      <td>0</td>\n",
       "      <td>1</td>\n",
       "      <td>positive</td>\n",
       "      <td>1345939200</td>\n",
       "      <td>Brooklyn Bean Roastery Breakfast Blend K-Cups</td>\n",
       "      <td>Brooklyn Bean Roastery Blend K-Cups are great ...</td>\n",
       "      <td>brooklyn bean roastery blend cups great tastin...</td>\n",
       "    </tr>\n",
       "    <tr>\n",
       "      <th>3</th>\n",
       "      <td>136545</td>\n",
       "      <td>B006Q820X0</td>\n",
       "      <td>#oc-R10UA029WVWIUI</td>\n",
       "      <td>Kim D</td>\n",
       "      <td>0</td>\n",
       "      <td>0</td>\n",
       "      <td>negative</td>\n",
       "      <td>1342483200</td>\n",
       "      <td>Less than satisfactory.  I gave the Brooklyn K...</td>\n",
       "      <td>Brooklyn \"French Roast\" K-Cup Coffee is not on...</td>\n",
       "      <td>brooklyn french roast cup coffee not one favor...</td>\n",
       "    </tr>\n",
       "    <tr>\n",
       "      <th>4</th>\n",
       "      <td>83318</td>\n",
       "      <td>B005ZBZLT4</td>\n",
       "      <td>#oc-R115TNMSPFT9I7</td>\n",
       "      <td>Breyton</td>\n",
       "      <td>2</td>\n",
       "      <td>3</td>\n",
       "      <td>negative</td>\n",
       "      <td>1331510400</td>\n",
       "      <td>\"Green\" K-cup packaging sacrifices flavor</td>\n",
       "      <td>Overall its just OK when considering the price...</td>\n",
       "      <td>overall ok considering price cups sf coffee cu...</td>\n",
       "    </tr>\n",
       "  </tbody>\n",
       "</table>\n",
       "</div>"
      ],
      "text/plain": [
       "       Id   ProductId              UserId ProfileName  HelpfulnessNumerator  \\\n",
       "0  136323  B006Q820X0  #oc-R103C0QSV1DF5E           C                     1   \n",
       "1  516062  B008I1XPKA  #oc-R109MU5OBBZ59U      AayGee                     0   \n",
       "2  516079  B008I1XPKA  #oc-R10LFEMQEW6QGZ       Julie                     0   \n",
       "3  136545  B006Q820X0  #oc-R10UA029WVWIUI       Kim D                     0   \n",
       "4   83318  B005ZBZLT4  #oc-R115TNMSPFT9I7     Breyton                     2   \n",
       "\n",
       "   HelpfulnessDenominator     Score        Time  \\\n",
       "0                       2  positive  1343088000   \n",
       "1                       1  positive  1350086400   \n",
       "2                       1  positive  1345939200   \n",
       "3                       0  negative  1342483200   \n",
       "4                       3  negative  1331510400   \n",
       "\n",
       "                                             Summary  \\\n",
       "0                                Great for the Price   \n",
       "1                                 AWESOME Coffee!!!!   \n",
       "2      Brooklyn Bean Roastery Breakfast Blend K-Cups   \n",
       "3  Less than satisfactory.  I gave the Brooklyn K...   \n",
       "4          \"Green\" K-cup packaging sacrifices flavor   \n",
       "\n",
       "                                                Text  \\\n",
       "0  I have to say I was a little apprehensive to b...   \n",
       "1  Received my free K cups as a sample promotion ...   \n",
       "2  Brooklyn Bean Roastery Blend K-Cups are great ...   \n",
       "3  Brooklyn \"French Roast\" K-Cup Coffee is not on...   \n",
       "4  Overall its just OK when considering the price...   \n",
       "\n",
       "                                        cleaned_text  \n",
       "0  say little apprehensive buy product price like...  \n",
       "1  received free cups sample promotion love least...  \n",
       "2  brooklyn bean roastery blend cups great tastin...  \n",
       "3  brooklyn french roast cup coffee not one favor...  \n",
       "4  overall ok considering price cups sf coffee cu...  "
      ]
     },
     "execution_count": 87,
     "metadata": {},
     "output_type": "execute_result"
    }
   ],
   "source": [
    "reviews.head()"
   ]
  },
  {
   "cell_type": "code",
   "execution_count": 80,
   "metadata": {},
   "outputs": [
    {
     "data": {
      "image/png": "[encoded data removed]",
      "text/plain": [
       "<Figure size 432x288 with 1 Axes>"
      ]
     },
     "metadata": {
      "needs_background": "light"
     },
     "output_type": "display_data"
    }
   ],
   "source": [
    "reviews['Score'].value_counts().plot(kind='bar')\n",
    "plt.show()"
   ]
  },
  {
   "cell_type": "code",
   "execution_count": 81,
   "metadata": {},
   "outputs": [],
   "source": [
    "# Using Google News Word2Vectors\n",
    "from gensim.models import Word2Vec\n",
    "from gensim.models import KeyedVectors"
   ]
  },
  {
   "cell_type": "markdown",
   "metadata": {},
   "source": [
    "## with pretrained Word2Vector"
   ]
  },
  {
   "cell_type": "code",
   "execution_count": 82,
   "metadata": {},
   "outputs": [],
   "source": [
    "# model = KeyedVectors.load_word2vec_format('GoogleNews-vectors-negative300.bin', binary=True)"
   ]
  },
  {
   "cell_type": "code",
   "execution_count": 83,
   "metadata": {
    "scrolled": true
   },
   "outputs": [],
   "source": [
    "# model.word_vec('computer')"
   ]
  },
  {
   "cell_type": "code",
   "execution_count": 84,
   "metadata": {},
   "outputs": [],
   "source": [
    "# model.similarity('woman', 'man')"
   ]
  },
  {
   "cell_type": "markdown",
   "metadata": {},
   "source": [
    "## Train your own Word2Vec model using your own text corpus"
   ]
  },
  {
   "cell_type": "code",
   "execution_count": 85,
   "metadata": {},
   "outputs": [],
   "source": [
    "import gensim\n",
    "i=0\n",
    "list_of_sent=[]\n",
    "y = []\n",
    "for sent, polarity in reviews[['cleaned_text', 'Score']].values:\n",
    "    if(isinstance(sent, float)):\n",
    "        continue\n",
    "    list_of_sent.append(sent.split())\n",
    "    if(polarity == 'positive'):\n",
    "        y.append(1)\n",
    "    else:\n",
    "        y.append(0)"
   ]
  },
  {
   "cell_type": "code",
   "execution_count": 88,
   "metadata": {},
   "outputs": [
    {
     "data": {
      "text/plain": [
       "(364167, 364167)"
      ]
     },
     "execution_count": 88,
     "metadata": {},
     "output_type": "execute_result"
    }
   ],
   "source": [
    "len(list_of_sent), len(y)"
   ]
  },
  {
   "cell_type": "code",
   "execution_count": 89,
   "metadata": {},
   "outputs": [
    {
     "name": "stdout",
     "output_type": "stream",
     "text": [
      "I have to say I was a little apprehensive to buy this product for the price, but I like to keep my K-Cup price under $0.50 and Sam's Club was sold out at the time, and I tried this.  The Fuhgeddaboudit is very strong, but that's how I like it.  Overall, I was impressed.\n",
      "*****************************************************************************************************************************\n",
      "say little apprehensive buy product price like keep cup price sam club sold time tried fuhgeddaboudit strong like overall impressed\n",
      "*****************************************************************************************************************************\n",
      "['say', 'little', 'apprehensive', 'buy', 'product', 'price', 'like', 'keep', 'cup', 'price', 'sam', 'club', 'sold', 'time', 'tried', 'fuhgeddaboudit', 'strong', 'like', 'overall', 'impressed']\n"
     ]
    }
   ],
   "source": [
    "print(reviews['Text'].values[0])\n",
    "print(\"*\"*125)\n",
    "print(reviews['cleaned_text'].values[0])\n",
    "print(\"*\"*125)\n",
    "print(list_of_sent[0])"
   ]
  },
  {
   "cell_type": "code",
   "execution_count": 90,
   "metadata": {},
   "outputs": [],
   "source": [
    "w2v_model = gensim.models.Word2Vec(list_of_sent, min_count = 5, size = 50, workers = 20)"
   ]
  },
  {
   "cell_type": "code",
   "execution_count": 91,
   "metadata": {},
   "outputs": [
    {
     "name": "stdout",
     "output_type": "stream",
     "text": [
      "34278\n"
     ]
    },
    {
     "data": {
      "text/plain": [
       "('say', 'puk')"
      ]
     },
     "execution_count": 91,
     "metadata": {},
     "output_type": "execute_result"
    }
   ],
   "source": [
    "vocab = list(w2v_model.wv.vocab)\n",
    "print(len(vocab))\n",
    "vocab[0], vocab[-1]"
   ]
  },
  {
   "cell_type": "code",
   "execution_count": 92,
   "metadata": {},
   "outputs": [
    {
     "data": {
      "text/plain": [
       "0.65446174"
      ]
     },
     "execution_count": 92,
     "metadata": {},
     "output_type": "execute_result"
    }
   ],
   "source": [
    "w2v_model.wv.similarity('woman', 'man')"
   ]
  },
  {
   "cell_type": "code",
   "execution_count": 93,
   "metadata": {},
   "outputs": [
    {
     "data": {
      "text/plain": [
       "[('hotels', 0.7870159149169922),\n",
       " ('motel', 0.778052031993866),\n",
       " ('vacation', 0.7668137550354004),\n",
       " ('ireland', 0.7577199339866638),\n",
       " ('paris', 0.719463586807251),\n",
       " ('london', 0.7155829071998596),\n",
       " ('conference', 0.7146056890487671),\n",
       " ('rome', 0.7072338461875916),\n",
       " ('rooms', 0.7022071480751038),\n",
       " ('breakroom', 0.6999342441558838)]"
      ]
     },
     "execution_count": 93,
     "metadata": {},
     "output_type": "execute_result"
    }
   ],
   "source": [
    "w2v_model.wv.most_similar('hotel')"
   ]
  },
  {
   "cell_type": "code",
   "execution_count": 94,
   "metadata": {},
   "outputs": [
    {
     "data": {
      "text/plain": [
       "array([-1.5890012 ,  1.2631526 , -0.1266999 , -0.29994875,  0.3377623 ,\n",
       "        0.27593616, -1.8732355 , -1.5036888 , -1.926679  , -1.3508315 ,\n",
       "        1.2082211 , -0.33695588,  0.5997601 ,  1.1409487 , -1.016618  ,\n",
       "        1.2887279 ,  0.886338  ,  2.6007133 ,  0.9540207 , -0.03547563,\n",
       "        1.4907396 ,  0.4770902 ,  0.9251322 , -0.65900975, -0.42440236,\n",
       "       -1.3377224 , -1.9974976 , -0.28572747,  0.11069635,  0.5555362 ,\n",
       "       -1.8846067 ,  0.55977094,  2.0914152 ,  1.3883376 , -0.16358633,\n",
       "       -3.057779  ,  0.16705501, -2.7011654 ,  1.8126731 ,  0.8179987 ,\n",
       "       -1.225041  , -1.6454949 ,  3.776888  , -0.9606517 ,  0.7377807 ,\n",
       "        2.0618114 ,  2.582558  ,  1.7848674 , -0.19659062,  1.8183081 ],\n",
       "      dtype=float32)"
      ]
     },
     "execution_count": 94,
     "metadata": {},
     "output_type": "execute_result"
    }
   ],
   "source": [
    "w2v_model.wv['hotel']"
   ]
  },
  {
   "cell_type": "markdown",
   "metadata": {},
   "source": [
    "# Building knn model for sentiment classification"
   ]
  },
  {
   "cell_type": "code",
   "execution_count": 95,
   "metadata": {},
   "outputs": [],
   "source": [
    "x = [] \n",
    "for sent in list_of_sent: \n",
    "    sent_vec = np.zeros(50) # initialise with 0 of dim(1 x 50)\n",
    "    cnt_words = 0\n",
    "    for word in sent:\n",
    "        try:\n",
    "            vec = w2v_model.wv[word] # returns ndarray\n",
    "            sent_vec += vec # add all vectors to get a accumulated vector\n",
    "            cnt_words += 1 # count total words for normalization\n",
    "        except:\n",
    "            pass\n",
    "    sent_vec /= cnt_words\n",
    "    x.append(sent_vec)"
   ]
  },
  {
   "cell_type": "code",
   "execution_count": 96,
   "metadata": {},
   "outputs": [],
   "source": [
    "# from sklearn.preprocessing import StandardScaler\n",
    "# scaler = StandardScaler()\n",
    "# x = scaler.fit_transform(x)"
   ]
  },
  {
   "cell_type": "code",
   "execution_count": 97,
   "metadata": {},
   "outputs": [],
   "source": [
    "from sklearn.neighbors import KNeighborsClassifier\n",
    "from sklearn.model_selection import train_test_split"
   ]
  },
  {
   "cell_type": "code",
   "execution_count": 98,
   "metadata": {},
   "outputs": [],
   "source": [
    "## cross_validation(depricated) ==> model_selection\n",
    "from sklearn.model_selection import cross_val_score\n",
    "\n",
    "def find_optimal_k(X_train,y_train, myList=range(0, 40)):\n",
    "    #creating odd list of K for KNN\n",
    "    neighbors = list(filter(lambda x: x % 2 != 0, myList))\n",
    "\n",
    "    # empty list that will hold cv scores\n",
    "    cv_scores = []\n",
    "\n",
    "    # perform 10-fold cross validation\n",
    "    for k in neighbors:\n",
    "        knn = KNeighborsClassifier(n_neighbors=k)\n",
    "        scores = cross_val_score(knn, X_train, y_train, cv=10, scoring='accuracy')\n",
    "        cv_scores.append(scores.mean())\n",
    "\n",
    "    # changing to misclassification error\n",
    "    MSE = [1 - x for x in cv_scores]\n",
    "\n",
    "    # determining best k\n",
    "    optimal_k = neighbors[MSE.index(min(MSE))]\n",
    "    print('\\nThe optimal number of neighbors is %d.' % optimal_k)\n",
    "\n",
    "\n",
    "    plt.figure(figsize=(10,6))\n",
    "    plt.plot(neighbour, cv_scores, color='blue', linestyle='dashed', marker='o', markerfacecolor='green', markersize=10)\n",
    "    plt.plot(neighbour, MSE, color='blue', linestyle='dashed', marker='o', markerfacecolor='red', markersize=10)\n",
    "    plt.title('Error Rate vs. K Value')\n",
    "    plt.xlabel('K')\n",
    "    plt.ylabel('Error Rate')\n",
    "\n",
    "    print(\"the misclassification error for each k value is : \", np.round(MSE,3))\n",
    "    \n",
    "    return optimal_k"
   ]
  },
  {
   "cell_type": "code",
   "execution_count": 99,
   "metadata": {},
   "outputs": [
    {
     "data": {
      "text/plain": [
       "(291333, 291333, 72834, 72834)"
      ]
     },
     "execution_count": 99,
     "metadata": {},
     "output_type": "execute_result"
    }
   ],
   "source": [
    "x_train, x_test, y_train, y_test = train_test_split(x, y, test_size=0.20, random_state=42)\n",
    "len(x_train), len(y_train), len(x_test), len(y_test)"
   ]
  },
  {
   "cell_type": "code",
   "execution_count": 100,
   "metadata": {},
   "outputs": [],
   "source": [
    "# best_k = find_optimal_k(x_train, y_train, range(0, 40)) # takes too much time\n",
    "best_k = 3 # (say)"
   ]
  },
  {
   "cell_type": "code",
   "execution_count": 101,
   "metadata": {},
   "outputs": [],
   "source": [
    "knn = KNeighborsClassifier(n_neighbors = best_k, n_jobs = -1)"
   ]
  },
  {
   "cell_type": "code",
   "execution_count": 102,
   "metadata": {},
   "outputs": [
    {
     "data": {
      "text/plain": [
       "KNeighborsClassifier(algorithm='auto', leaf_size=30, metric='minkowski',\n",
       "                     metric_params=None, n_jobs=-1, n_neighbors=3, p=2,\n",
       "                     weights='uniform')"
      ]
     },
     "execution_count": 102,
     "metadata": {},
     "output_type": "execute_result"
    }
   ],
   "source": [
    "knn.fit(x_train, y_train)"
   ]
  },
  {
   "cell_type": "code",
   "execution_count": 103,
   "metadata": {},
   "outputs": [],
   "source": [
    "pred = knn.predict(x_test)"
   ]
  },
  {
   "cell_type": "code",
   "execution_count": 119,
   "metadata": {},
   "outputs": [
    {
     "name": "stdout",
     "output_type": "stream",
     "text": [
      "[[0.         1.        ]\n",
      " [0.         1.        ]\n",
      " [1.         0.        ]\n",
      " [0.         1.        ]\n",
      " [0.         1.        ]\n",
      " [0.33333333 0.66666667]\n",
      " [0.33333333 0.66666667]\n",
      " [0.         1.        ]\n",
      " [0.         1.        ]\n",
      " [0.         1.        ]]\n"
     ]
    }
   ],
   "source": [
    "print(knn.predict_proba(x_test[0:10]))"
   ]
  },
  {
   "cell_type": "code",
   "execution_count": 104,
   "metadata": {},
   "outputs": [],
   "source": [
    "import scikitplot.metrics as skplt\n",
    "from sklearn.metrics import classification_report,confusion_matrix,accuracy_score, roc_curve"
   ]
  },
  {
   "cell_type": "code",
   "execution_count": 105,
   "metadata": {},
   "outputs": [
    {
     "name": "stdout",
     "output_type": "stream",
     "text": [
      "0.8780789191860944\n",
      "[[ 5537  6052]\n",
      " [ 2828 58417]]\n"
     ]
    }
   ],
   "source": [
    "print(accuracy_score(y_test, pred))\n",
    "print(confusion_matrix(y_test, pred))"
   ]
  },
  {
   "cell_type": "code",
   "execution_count": 106,
   "metadata": {},
   "outputs": [
    {
     "name": "stdout",
     "output_type": "stream",
     "text": [
      "              precision    recall  f1-score   support\n",
      "\n",
      "           0       0.66      0.48      0.55     11589\n",
      "           1       0.91      0.95      0.93     61245\n",
      "\n",
      "    accuracy                           0.88     72834\n",
      "   macro avg       0.78      0.72      0.74     72834\n",
      "weighted avg       0.87      0.88      0.87     72834\n",
      "\n"
     ]
    }
   ],
   "source": [
    "print(classification_report(y_test, pred))"
   ]
  },
  {
   "cell_type": "code",
   "execution_count": 107,
   "metadata": {},
   "outputs": [
    {
     "data": {
      "image/png": "[encoded data removed]",
      "text/plain": [
       "<Figure size 432x288 with 2 Axes>"
      ]
     },
     "metadata": {
      "needs_background": "light"
     },
     "output_type": "display_data"
    }
   ],
   "source": [
    "skplt.plot_confusion_matrix(y_test, pred)\n",
    "plt.show()"
   ]
  },
  {
   "cell_type": "code",
   "execution_count": 116,
   "metadata": {},
   "outputs": [
    {
     "name": "stdout",
     "output_type": "stream",
     "text": [
      "AUC :  0.7158027280465842\n"
     ]
    },
    {
     "data": {
      "image/png": "[encoded data removed]",
      "text/plain": [
       "<Figure size 432x288 with 1 Axes>"
      ]
     },
     "metadata": {
      "needs_background": "light"
     },
     "output_type": "display_data"
    }
   ],
   "source": [
    "from sklearn import metrics\n",
    "print(\"AUC : \", metrics.roc_auc_score(y_test, pred))\n",
    "fpr, tpr, _ = metrics.roc_curve(y_test,  pred)\n",
    "auc = metrics.roc_auc_score(y_test, pred)\n",
    "plt.plot(fpr, tpr, label=\"data 1, auc=\"+str(auc))\n",
    "plt.xlabel('fpr')\n",
    "plt.ylabel('tpr')\n",
    "plt.title('ROC')\n",
    "plt.legend(loc=4)\n",
    "plt.show()"
   ]
  },
  {
   "cell_type": "markdown",
   "metadata": {},
   "source": [
    "**Observation**\n",
    "1. Finding best-k takes too much time, so taken random initialisation\n",
    "2. The current accuracy on pretrained embedding is ~87.80%.\n",
    "3. Knn is very slow algorithm.\n",
    "4. Dataset was not balanced (p:~3,00,000, n:~50,000)"
   ]
  },
  {
   "cell_type": "code",
   "execution_count": null,
   "metadata": {},
   "outputs": [],
   "source": []
  }
 ],
 "metadata": {
  "kernelspec": {
   "display_name": "Python 3",
   "language": "python",
   "name": "python3"
  },
  "language_info": {
   "codemirror_mode": {
    "name": "ipython",
    "version": 3
   },
   "file_extension": ".py",
   "mimetype": "text/x-python",
   "name": "python",
   "nbconvert_exporter": "python",
   "pygments_lexer": "ipython3",
   "version": "3.7.3"
  }
 },
 "nbformat": 4,
 "nbformat_minor": 2
}
